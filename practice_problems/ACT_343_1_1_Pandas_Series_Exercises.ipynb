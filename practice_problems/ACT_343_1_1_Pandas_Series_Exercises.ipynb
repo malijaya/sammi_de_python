{
  "cells": [
    {
      "cell_type": "markdown",
      "id": "-b0uAd4l815N",
      "metadata": {
        "id": "-b0uAd4l815N"
      },
      "source": [
        "# **Pandas Series Practice Excercises**\n",
        "\n",
        "\n",
        "A pandas Series is a one-dimensional array. It holds any data type supported in Python and uses labels to locate each data value for retrieval. These labels form the index, and they can be strings or integers. A Series is the main data structure in the pandas framework for storing one-dimensional data."
      ]
    },
    {
      "cell_type": "markdown",
      "id": "pysSxlLx8bU5",
      "metadata": {
        "id": "pysSxlLx8bU5"
      },
      "source": [
        "**Common methods used with Pandas Series**\n",
        "\n",
        "\n",
        "*.head(), .name(), .to_frame(), .reset_index(), isin(), .valuecounts(), .index(), .qcut(), .reshape(), .take(), .append(), .tolist(), .get_loc(), .map(), .diff()*\n",
        "\n",
        "\n",
        "---\n",
        "\n",
        "\n",
        "Please refer to the [Pandas Series Documentation](https://pandas.pydata.org/docs/reference/api/pandas.Series.html) for a full list of methods and how to implement them. "
      ]
    },
    {
      "cell_type": "markdown",
      "id": "fc4bd4f0",
      "metadata": {
        "id": "fc4bd4f0"
      },
      "source": [
        "To complete the problems below we first need to import the Pandas and Numpy libraries. If you haven't already installed them, use pip or conda to install them globally or in your virtual environment.\n",
        "\n",
        "\n",
        "* The common alias for pandas is pd.  \n",
        "* The common alias for numpy is np.\n",
        "\n",
        "\n"
      ]
    },
    {
      "cell_type": "code",
      "execution_count": 21,
      "id": "3a3bc97b",
      "metadata": {
        "id": "3a3bc97b"
      },
      "outputs": [],
      "source": [
        "#pip install pandas\n",
        "#pip install numpy \n",
        "\n",
        "import pandas as pd\n",
        "import numpy as np"
      ]
    },
    {
      "cell_type": "markdown",
      "id": "f37bc5b9",
      "metadata": {},
      "source": []
    },
    {
      "cell_type": "markdown",
      "id": "b8fc4f4a",
      "metadata": {
        "id": "b8fc4f4a"
      },
      "source": [
        "**Problem 1**\n",
        "\n",
        "We can easily convert lists, tuples, dictionaries and numpy arrays into a Pandas Series by directly passing the python object as an arguement to the Series() constructor. We have used the alias pd in the cell above, so we will use pd.Series() to construct our Series object. \n",
        "\n",
        "\n",
        "\n",
        "*  Convert the 3 objects below into 3 seperate Pandas Series objects.\n",
        "*  Use the .head() method to see the first 5 items in each Series\n",
        "\n",
        "\n",
        "\n"
      ]
    },
    {
      "cell_type": "code",
      "execution_count": 28,
      "id": "21b30b4e",
      "metadata": {
        "id": "21b30b4e"
      },
      "outputs": [
        {
          "name": "stdout",
          "output_type": "stream",
          "text": [
            "0    a\n",
            "1    b\n",
            "2    c\n",
            "3    e\n",
            "4    d\n",
            "dtype: object\n",
            "0    0\n",
            "1    1\n",
            "2    2\n",
            "3    3\n",
            "4    4\n",
            "dtype: int32\n",
            "a    0\n",
            "b    1\n",
            "c    2\n",
            "e    3\n",
            "d    4\n",
            "dtype: int32\n"
          ]
        }
      ],
      "source": [
        "mylist = list('abcedfghijklmnopqrstuvwxyz')\n",
        "myarr = np.arange(26)\n",
        "mydict = dict(zip(mylist, myarr))\n",
        "\n",
        "ser1= pd.Series(mylist)\n",
        "print(ser1.head(5))\n",
        "\n",
        "ser2= pd.Series(myarr)\n",
        "print(ser2.head(5))\n",
        "\n",
        "ser3= pd.Series(mydict)\n",
        "print(ser3.head())"
      ]
    },
    {
      "cell_type": "markdown",
      "id": "4bdd8618",
      "metadata": {
        "id": "4bdd8618"
      },
      "source": [
        "**Problem 2**\n",
        "\n",
        "We can give a name to our Pandas series as a parameter of our Constructor method. \n",
        "\n",
        "*   Use the name parameter to add 'alphabet' as the name of our series.\n",
        "*   Use the .head() method to see the name of our Series displayed\n",
        "\n"
      ]
    },
    {
      "cell_type": "code",
      "execution_count": 29,
      "id": "b18f9c01",
      "metadata": {
        "id": "b18f9c01"
      },
      "outputs": [
        {
          "name": "stdout",
          "output_type": "stream",
          "text": [
            "0    a\n",
            "1    b\n",
            "2    c\n",
            "3    e\n",
            "4    d\n",
            "Name: alphabet, dtype: object\n"
          ]
        }
      ],
      "source": [
        "ser = pd.Series(list('abcedfghijklmnopqrstuvwxyz'), name= 'alphabet')\n",
        "print(ser.head())"
      ]
    },
    {
      "attachments": {},
      "cell_type": "markdown",
      "id": "9CnM9Q1aGeSh",
      "metadata": {
        "id": "9CnM9Q1aGeSh"
      },
      "source": [
        "**Problem 3**\n",
        "\n",
        "We can also add a name to the series after it is created using the .name() method on our Series object.\n",
        "\n",
        "\n",
        "\n",
        "*   Use the .name attribute to add the name 'alphabet1' to the Series object after it has been created.\n",
        "*   Use the .head() method to verify\n",
        "\n",
        "\n",
        "\n"
      ]
    },
    {
      "cell_type": "code",
      "execution_count": null,
      "id": "LNTgSTULGmki",
      "metadata": {
        "id": "LNTgSTULGmki"
      },
      "outputs": [
        {
          "data": {
            "text/plain": [
              "0    a\n",
              "1    b\n",
              "2    c\n",
              "3    e\n",
              "4    d\n",
              "Name: alphabet1, dtype: object"
            ]
          },
          "execution_count": 11,
          "metadata": {},
          "output_type": "execute_result"
        }
      ],
      "source": [
        "ser = pd.Series(list('abcedfghijklmnopqrstuvwxyz'))\n",
        "ser.name= 'alphabet1'\n",
        "ser.head()"
      ]
    },
    {
      "cell_type": "markdown",
      "id": "s37iP5fcQ9Nu",
      "metadata": {
        "id": "s37iP5fcQ9Nu"
      },
      "source": [
        "**Problem 4**\n",
        "\n",
        "We can use mathematic operators to perform calculations on two or more series.\n",
        "\n",
        "*   Create a new object that adds the two series below\n",
        "*   Create a new object that subtracts the two series below\n",
        "*   Create a new object that multiplies the two series below\n",
        "*   Create a new object that divides the two series below\n",
        "\n",
        "Make sure you display your outputs.\n",
        "\n",
        "\n",
        "\n"
      ]
    },
    {
      "cell_type": "code",
      "execution_count": 35,
      "id": "8f9oxMC2Rsf2",
      "metadata": {
        "id": "8f9oxMC2Rsf2"
      },
      "outputs": [
        {
          "name": "stdout",
          "output_type": "stream",
          "text": [
            "0     3\n",
            "1     7\n",
            "2    11\n",
            "3    15\n",
            "4    19\n",
            "dtype: int64\n",
            "0    1\n",
            "1    1\n",
            "2    1\n",
            "3    1\n",
            "4    1\n",
            "dtype: int64\n",
            "0     2\n",
            "1    12\n",
            "2    30\n",
            "3    56\n",
            "4    90\n",
            "dtype: int64\n",
            "0    2.000000\n",
            "1    1.333333\n",
            "2    1.200000\n",
            "3    1.142857\n",
            "4    1.111111\n",
            "dtype: float64\n"
          ]
        }
      ],
      "source": [
        "ser1= pd.Series([2, 4, 6, 8, 10])\n",
        "ser2= pd.Series([1, 3, 5, 7, 9])\n",
        "print(ser1.add(ser2,fill_value=0))\n",
        "print(ser1.subtract(ser2,fill_value=0))\n",
        "print(ser1.multiply(ser2,fill_value=0))\n",
        "print(ser1.divide(ser2,fill_value=0))\n",
        "\n"
      ]
    },
    {
      "cell_type": "markdown",
      "id": "FFFpCBO9SPio",
      "metadata": {
        "id": "FFFpCBO9SPio"
      },
      "source": [
        "**Problem 5**\n",
        "\n",
        "We can use comparison operators to compare elements of two Series.\n",
        "\n",
        "Use the series below to perform the following:\n",
        "\n",
        "\n",
        "*   Check if the elements in ser1 are equal to the elements in ser2\n",
        "*   Check if the elements in ser1 are greater than the elements in ser2\n",
        "*   Check if the elements in ser1 are less than the elements in ser2\n",
        "\n",
        "\n",
        "\n"
      ]
    },
    {
      "cell_type": "code",
      "execution_count": 40,
      "id": "dDqg0fMyTKBl",
      "metadata": {
        "id": "dDqg0fMyTKBl"
      },
      "outputs": [
        {
          "name": "stdout",
          "output_type": "stream",
          "text": [
            "False\n",
            "0     True\n",
            "1     True\n",
            "2    False\n",
            "3     True\n",
            "4    False\n",
            "dtype: bool\n",
            "0    False\n",
            "1    False\n",
            "2    False\n",
            "3    False\n",
            "4    False\n",
            "dtype: bool\n"
          ]
        }
      ],
      "source": [
        "ser1= pd.Series([2, 4, 5, 8, 10])\n",
        "ser2= pd.Series([1, 3, 5, 7, 10])\n",
        "result = ser1.equals(ser2)\n",
        "print(result)\n",
        "result1 = ser1.gt(ser2)\n",
        "print(result1)\n",
        "result2 = ser1.lt(ser2)\n",
        "print(result2)\n"
      ]
    },
    {
      "cell_type": "markdown",
      "id": "WNACP_hzVEGO",
      "metadata": {
        "id": "WNACP_hzVEGO"
      },
      "source": [
        "**Problem 6**\n",
        "\n",
        "We can add additional elements to our Pandas Series. Use the Series below to peform the following:\n",
        "\n",
        "\n",
        "*   Create a new Series by using the .append() method to add 'penguin' and 'lion' to the Series object\n",
        "*   Use the .reset_index() method to reset the index values. \n",
        "\n",
        "(Both steps can be done in one line)\n",
        "\n"
      ]
    },
    {
      "cell_type": "code",
      "execution_count": 79,
      "id": "U88-04bTV0Pv",
      "metadata": {
        "id": "U88-04bTV0Pv"
      },
      "outputs": [
        {
          "name": "stdout",
          "output_type": "stream",
          "text": [
            "0         cat\n",
            "1         dog\n",
            "2    elephant\n",
            "3        frog\n",
            "4     penguin\n",
            "5        lion\n",
            "dtype: object\n"
          ]
        }
      ],
      "source": [
        "ser=pd.Series(['cat', 'dog', 'elephant', 'frog'])\n",
        "ser1 = pd.Series(['penguin','lion'])\n",
        "#new_ser = ser.append(ser1)\n",
        "ser_append = pd.concat([ser, ser1])\n",
        "s1 = ser_append.reset_index(drop=True)\n",
        "print(s1)"
      ]
    },
    {
      "cell_type": "markdown",
      "id": "J-d-RjpoWv2r",
      "metadata": {
        "id": "J-d-RjpoWv2r"
      },
      "source": [
        "**Problem 7**\n",
        "\n",
        "We can customize the index of our Series by using the 'index' paramater in our Series constructor. Use the Series below to peform the following:\n",
        "\n",
        "\n",
        "*   Set the index to ['A', 'B', 'C', 'D']\n",
        "*   Use the .reindex() method after the Series object is created to change the order of the index to ['B', 'A', 'D', 'C']\n",
        "\n"
      ]
    },
    {
      "cell_type": "code",
      "execution_count": 92,
      "id": "oUhUE4TGXbwA",
      "metadata": {
        "id": "oUhUE4TGXbwA"
      },
      "outputs": [
        {
          "name": "stdout",
          "output_type": "stream",
          "text": [
            "A         cat\n",
            "B         dog\n",
            "C    elephant\n",
            "D        frog\n",
            "dtype: object\n",
            "B         dog\n",
            "A         cat\n",
            "C    elephant\n",
            "D        frog\n",
            "dtype: object\n"
          ]
        }
      ],
      "source": [
        "ser=pd.Series(['cat', 'dog', 'elephant', 'frog'])\n",
        "ser.index = (['A', 'B','C','D'])\n",
        "print(ser)\n",
        "s1 = ser.reindex(['B','A','C','D'])\n",
        "print(s1)"
      ]
    },
    {
      "cell_type": "markdown",
      "id": "cdc8d244",
      "metadata": {
        "id": "cdc8d244"
      },
      "source": [
        "**Problem 8**\n",
        "\n",
        "Find the elements in the first series (ser1) not in the second series (ser2).\n",
        "\n",
        "\n",
        "*   Use the single square bracket notation and the .isin() method with ser1 to remove the items present in ser2. This will leave us with only the itmes not present in ser2.\n",
        "\n"
      ]
    },
    {
      "cell_type": "code",
      "execution_count": 90,
      "id": "f1276978",
      "metadata": {
        "id": "f1276978"
      },
      "outputs": [
        {
          "name": "stdout",
          "output_type": "stream",
          "text": [
            "0    1\n",
            "1    2\n",
            "2    3\n",
            "dtype: int64\n"
          ]
        }
      ],
      "source": [
        "ser1 = pd.Series([1, 2, 3, 4, 5])\n",
        "ser2 = pd.Series([4, 5, 6, 7, 8])\n",
        "res = ser1[~ser1.isin(ser2)]\n",
        "print(res)\n"
      ]
    },
    {
      "cell_type": "markdown",
      "id": "DmNC5CliY7I5",
      "metadata": {
        "id": "DmNC5CliY7I5"
      },
      "source": [
        "**Problem 9**\n",
        "\n",
        "Use the Series below to peform the following:\n",
        "*   Use a built-in Pandas method to find the mean of the Series\n",
        "*   Use a built-in Pandas method to find the standard deviation of the Series\n",
        "\n"
      ]
    },
    {
      "cell_type": "code",
      "execution_count": 91,
      "id": "lR7z4OOjZcdm",
      "metadata": {
        "id": "lR7z4OOjZcdm"
      },
      "outputs": [
        {
          "name": "stdout",
          "output_type": "stream",
          "text": [
            "4.818181818181818 2.522624895547565\n"
          ]
        }
      ],
      "source": [
        "ser= pd.Series(data = [1,2,3,4,5,6,7,8,9,5,3])\n",
        "print(ser.mean(),ser.std())"
      ]
    },
    {
      "cell_type": "markdown",
      "id": "d336f7dd",
      "metadata": {
        "id": "d336f7dd"
      },
      "source": [
        "**Problem 10**\n",
        "\n",
        "Find the elements in both series that are not in common (remove them if they exist in both).\n",
        "\n",
        "*   Create a new Series using np.union1d()\n",
        "*   Create a new Series using np. intersect1d()\n",
        "*   Use single square bracket notation and the .isin() method to find the final result\n",
        "\n",
        "\n",
        "\n"
      ]
    },
    {
      "cell_type": "code",
      "execution_count": null,
      "id": "28768232",
      "metadata": {
        "id": "28768232"
      },
      "outputs": [],
      "source": [
        "ser1 = pd.Series([1, 2, 3, 4, 5])\n",
        "ser2 = pd.Series([4, 5, 6, 7, 8])"
      ]
    },
    {
      "cell_type": "markdown",
      "id": "5d7188b5",
      "metadata": {
        "id": "5d7188b5"
      },
      "source": [
        "**Problem 11**\n",
        "\n",
        "Find the minimum, max, 25th percentile, and 75th percentile in the series.\n",
        "\n",
        "*   Use np.percentile to find the percentiles above\n",
        "\n",
        "\n",
        "\n"
      ]
    },
    {
      "cell_type": "code",
      "execution_count": 93,
      "id": "5a1a3ce7",
      "metadata": {
        "id": "5a1a3ce7"
      },
      "outputs": [
        {
          "name": "stdout",
          "output_type": "stream",
          "text": [
            "0     19.211077\n",
            "1      9.652195\n",
            "2      8.891362\n",
            "3     11.801340\n",
            "4     16.383624\n",
            "5      5.472696\n",
            "6      8.380667\n",
            "7     10.233639\n",
            "8      9.725180\n",
            "9     14.245067\n",
            "10     9.164407\n",
            "11     5.122169\n",
            "12     6.143351\n",
            "13    16.853259\n",
            "14    14.853762\n",
            "15    12.274285\n",
            "16    11.566249\n",
            "17    15.596007\n",
            "18    12.775057\n",
            "19     5.270422\n",
            "20    10.014686\n",
            "21     0.313410\n",
            "22    18.362134\n",
            "23    12.150616\n",
            "24    15.467452\n",
            "dtype: float64\n",
            "Min is 0.3134099263184993\n",
            "Max is 19.211076907669838\n",
            "25th percentile is 8.891361974649975\n",
            "75th percentile is 14.853761649278695\n"
          ]
        }
      ],
      "source": [
        "ser = pd.Series(np.random.normal(10, 5, 25))\n",
        "print(ser)\n",
        "print(\"Min is\",ser.min())\n",
        "print(\"Max is\",ser.max())\n",
        "print(\"25th percentile is\",np.percentile(ser,25))\n",
        "print(\"75th percentile is\",np.percentile(ser,75))\n"
      ]
    },
    {
      "cell_type": "markdown",
      "id": "2e3c1803",
      "metadata": {
        "id": "2e3c1803"
      },
      "source": [
        "**Problem 12**\n",
        "\n",
        "Obtain the count of each unique item in the series.\n",
        "\n",
        "\n",
        "*   Use the .value_counts() method to find the frequency count of each unique item\n",
        "\n",
        "\n"
      ]
    },
    {
      "cell_type": "code",
      "execution_count": 97,
      "id": "16a2880a",
      "metadata": {
        "id": "16a2880a"
      },
      "outputs": [
        {
          "name": "stdout",
          "output_type": "stream",
          "text": [
            "0     a\n",
            "1     g\n",
            "2     b\n",
            "3     b\n",
            "4     h\n",
            "5     c\n",
            "6     f\n",
            "7     c\n",
            "8     d\n",
            "9     f\n",
            "10    e\n",
            "11    h\n",
            "12    c\n",
            "13    d\n",
            "14    c\n",
            "15    d\n",
            "16    d\n",
            "17    c\n",
            "18    a\n",
            "19    b\n",
            "20    g\n",
            "21    g\n",
            "22    e\n",
            "23    d\n",
            "24    g\n",
            "25    g\n",
            "26    h\n",
            "27    h\n",
            "28    h\n",
            "29    a\n",
            "dtype: object\n",
            "g    5\n",
            "h    5\n",
            "c    5\n",
            "d    5\n",
            "a    3\n",
            "b    3\n",
            "f    2\n",
            "e    2\n",
            "Name: count, dtype: int64\n"
          ]
        }
      ],
      "source": [
        "ser = pd.Series(np.take(list('abcdefgh'), np.random.randint(8, size=30)))\n",
        "print(ser)\n",
        "result = ser.value_counts()\n",
        "print(result)"
      ]
    },
    {
      "cell_type": "markdown",
      "id": "449036ea",
      "metadata": {
        "id": "449036ea"
      },
      "source": [
        "**Problem 13**\n",
        "\n",
        "Keep the two most frequent items in the series and change all items that are not those two into \"Other\".\n",
        "\n",
        "\n",
        "\n",
        "*   Use .isin(), .valuecounts(), and .index() to complete the task above\n",
        "\n"
      ]
    },
    {
      "cell_type": "code",
      "execution_count": 101,
      "id": "e86f2a9e",
      "metadata": {
        "id": "e86f2a9e"
      },
      "outputs": [
        {
          "name": "stdout",
          "output_type": "stream",
          "text": [
            "0     2\n",
            "1     4\n",
            "2     3\n",
            "3     1\n",
            "4     1\n",
            "5     3\n",
            "6     3\n",
            "7     1\n",
            "8     2\n",
            "9     1\n",
            "10    2\n",
            "11    4\n",
            "dtype: int32\n",
            "Index([1, 2], dtype='int32')\n",
            "0         2\n",
            "1     Other\n",
            "2     Other\n",
            "3         1\n",
            "4         1\n",
            "5     Other\n",
            "6     Other\n",
            "7         1\n",
            "8         2\n",
            "9         1\n",
            "10        2\n",
            "11    Other\n",
            "dtype: object\n"
          ]
        }
      ],
      "source": [
        "np.random.RandomState(100)\n",
        "ser = pd.Series(np.random.randint(1, 5, [12]))\n",
        "print(ser)\n",
        "top_two=ser.value_counts().index[:2]\n",
        "print(top_two)\n",
        "ser[~ser.isin(top_two)] = 'Other'\n",
        "print(ser)"
      ]
    },
    {
      "cell_type": "markdown",
      "id": "b5928875",
      "metadata": {
        "id": "b5928875"
      },
      "source": [
        "**Problem 14**\n",
        "\n",
        "Bin the series below into 10 equal deciles and replace the values with the bin name.\n",
        "\n",
        "*   Use the .qcut() method to complete the task \n",
        "\n",
        "\n"
      ]
    },
    {
      "cell_type": "code",
      "execution_count": 104,
      "id": "979b3d36",
      "metadata": {
        "id": "979b3d36"
      },
      "outputs": [
        {
          "name": "stdout",
          "output_type": "stream",
          "text": [
            "0      (0.266, 0.332]\n",
            "1      (0.695, 0.807]\n",
            "2      (0.598, 0.695]\n",
            "3      (0.807, 0.959]\n",
            "4     (0.0474, 0.112]\n",
            "5      (0.373, 0.504]\n",
            "6      (0.504, 0.598]\n",
            "7      (0.266, 0.332]\n",
            "8      (0.332, 0.373]\n",
            "9     (0.0474, 0.112]\n",
            "10     (0.112, 0.206]\n",
            "11     (0.332, 0.373]\n",
            "12     (0.206, 0.266]\n",
            "13     (0.807, 0.959]\n",
            "14     (0.598, 0.695]\n",
            "15     (0.373, 0.504]\n",
            "16     (0.206, 0.266]\n",
            "17     (0.504, 0.598]\n",
            "18     (0.112, 0.206]\n",
            "19     (0.695, 0.807]\n",
            "dtype: category\n",
            "Categories (10, interval[float64, right]): [(0.0474, 0.112] < (0.112, 0.206] < (0.206, 0.266] < (0.266, 0.332] ... (0.504, 0.598] < (0.598, 0.695] < (0.695, 0.807] < (0.807, 0.959]]\n"
          ]
        }
      ],
      "source": [
        "ser = pd.Series(np.random.random(20))\n",
        "ser1 = pd.qcut(ser,10)\n",
        "print(ser1)"
      ]
    },
    {
      "cell_type": "markdown",
      "id": "28c62e92",
      "metadata": {
        "id": "28c62e92"
      },
      "source": [
        "**Problem 15**\n",
        "\n",
        "Find the positions of numbers that are multiples of 3 from Seriees below.\n",
        "\n",
        "*  Use np.argwhere() to complete the task \n",
        "\n",
        "\n"
      ]
    },
    {
      "cell_type": "code",
      "execution_count": 108,
      "id": "7ae884a9",
      "metadata": {
        "id": "7ae884a9"
      },
      "outputs": [
        {
          "name": "stdout",
          "output_type": "stream",
          "text": [
            "0    5\n",
            "1    3\n",
            "2    4\n",
            "3    9\n",
            "4    8\n",
            "5    5\n",
            "6    2\n",
            "dtype: int32\n"
          ]
        },
        {
          "data": {
            "text/plain": [
              "array([[1],\n",
              "       [3]], dtype=int64)"
            ]
          },
          "execution_count": 108,
          "metadata": {},
          "output_type": "execute_result"
        }
      ],
      "source": [
        "import numpy as np\n",
        "ser = pd.Series(np.random.randint(1, 10, 7))\n",
        "print(ser)\n",
        "np.argwhere(ser.to_numpy()%3 ==0 )"
      ]
    },
    {
      "cell_type": "markdown",
      "id": "7a60f247",
      "metadata": {
        "id": "7a60f247"
      },
      "source": [
        "**Problem 16**\n",
        "\n",
        "From ser, extract the items at positions in list pos.\n",
        "\n",
        "*   Use the .take() method to complete the task\n",
        "\n"
      ]
    },
    {
      "cell_type": "code",
      "execution_count": 109,
      "id": "42338aff",
      "metadata": {
        "id": "42338aff"
      },
      "outputs": [
        {
          "data": {
            "text/plain": [
              "0     a\n",
              "4     e\n",
              "8     i\n",
              "14    o\n",
              "20    u\n",
              "dtype: object"
            ]
          },
          "execution_count": 109,
          "metadata": {},
          "output_type": "execute_result"
        }
      ],
      "source": [
        "ser = pd.Series(list('abcdefghijklmnopqrstuvwxyz'))\n",
        "pos = [0, 4, 8, 14, 20]\n",
        "ser.take(pos)"
      ]
    },
    {
      "cell_type": "markdown",
      "id": "5da1836c",
      "metadata": {
        "id": "5da1836c"
      },
      "source": [
        "**Problem 17**\n",
        "\n",
        "Stack ser1 and ser2 vertically.\n",
        "\n",
        "*   Use the .append() method to complete the task\n",
        "\n"
      ]
    },
    {
      "cell_type": "code",
      "execution_count": 110,
      "id": "5dfea534",
      "metadata": {
        "id": "5dfea534"
      },
      "outputs": [
        {
          "name": "stdout",
          "output_type": "stream",
          "text": [
            "0     a\n",
            "1     b\n",
            "2     c\n",
            "3     d\n",
            "4     e\n",
            "5     f\n",
            "6     g\n",
            "7     h\n",
            "8     i\n",
            "9     j\n",
            "10    k\n",
            "11    l\n",
            "12    m\n",
            "13    n\n",
            "14    o\n",
            "15    p\n",
            "16    q\n",
            "17    r\n",
            "18    s\n",
            "19    t\n",
            "20    u\n",
            "21    v\n",
            "22    w\n",
            "23    x\n",
            "24    y\n",
            "25    z\n",
            "dtype: object 0    0\n",
            "1    1\n",
            "2    2\n",
            "3    3\n",
            "4    4\n",
            "dtype: int64 0    0\n",
            "1    1\n",
            "2    2\n",
            "3    3\n",
            "4    4\n",
            "5    a\n",
            "6    b\n",
            "7    c\n",
            "8    d\n",
            "9    e\n",
            "dtype: object\n"
          ]
        }
      ],
      "source": [
        "ser1 = pd.Series(range(5))\n",
        "ser2 = pd.Series(list('abcde'))\n",
        "vert_ser = pd.concat([ser1,ser2],ignore_index= True)\n",
        "print(ser,ser1,vert_ser)"
      ]
    },
    {
      "cell_type": "markdown",
      "id": "c252d7bb",
      "metadata": {
        "id": "c252d7bb"
      },
      "source": [
        "**Problem 18**\n",
        "\n",
        "Get the positions of items of ser2 in ser1 as a list.\n",
        "\n",
        "*   Use list comprehension, pd.Index, and .getloc() to complete the task\n",
        "\n"
      ]
    },
    {
      "cell_type": "code",
      "execution_count": null,
      "id": "da51891e",
      "metadata": {
        "id": "da51891e"
      },
      "outputs": [],
      "source": [
        "ser1 = pd.Series([10, 9, 6, 5, 3, 1, 12, 8, 13])\n",
        "ser2 = pd.Series([1, 3, 10, 13])\n",
        "ser1_index= pd.Index(ser1)\n",
        "new_list = ser1_index.get_loc(i)"
      ]
    },
    {
      "cell_type": "markdown",
      "id": "7acf6f79",
      "metadata": {
        "id": "7acf6f79"
      },
      "source": [
        "**Problem 19**\n",
        "\n",
        "Change the first character of each word to upper case in each word of ser.\n",
        "\n",
        "*   Use the .map() method combined with a string method to complete the task\n",
        "\n",
        "\n"
      ]
    },
    {
      "cell_type": "code",
      "execution_count": 46,
      "id": "c210bbe9",
      "metadata": {
        "id": "c210bbe9"
      },
      "outputs": [
        {
          "name": "stdout",
          "output_type": "stream",
          "text": [
            "0      How\n",
            "1       To\n",
            "2     Kick\n",
            "3    Butt?\n",
            "dtype: object\n"
          ]
        }
      ],
      "source": [
        "ser = pd.Series(['how', 'to', 'kick', 'butt?'])\n",
        "ser_map = ser.map(str.capitalize)\n",
        "print(ser_map)"
      ]
    },
    {
      "cell_type": "markdown",
      "id": "053f198a",
      "metadata": {
        "id": "053f198a"
      },
      "source": [
        "**Problem 20**\n",
        "\n",
        "Calculate the number of characters for each element in the series.\n",
        "\n",
        "*   Use the .map() method combined with a method to find the length of the string to complete the task.\n",
        "\n"
      ]
    },
    {
      "cell_type": "code",
      "execution_count": 50,
      "id": "216f9a3e",
      "metadata": {
        "id": "216f9a3e"
      },
      "outputs": [
        {
          "name": "stdout",
          "output_type": "stream",
          "text": [
            "0    3\n",
            "1    2\n",
            "2    4\n",
            "3    5\n",
            "dtype: int64\n"
          ]
        }
      ],
      "source": [
        "ser = pd.Series(['how', 'to', 'kick', 'butt?'])\n",
        "ser_len = ser.map(len)\n",
        "print(ser_len)"
      ]
    },
    {
      "cell_type": "markdown",
      "id": "a26bcf59",
      "metadata": {
        "id": "a26bcf59"
      },
      "source": [
        "**Problem 21**\n",
        "\n",
        "Caluculate the difference of differences between the consequtive numbers of ser. Dislplay the output as a list.\n",
        "\n",
        "*   Use the .diff() method to the complete the task\n",
        "\n"
      ]
    },
    {
      "cell_type": "code",
      "execution_count": null,
      "id": "c6dba0cb",
      "metadata": {
        "id": "c6dba0cb"
      },
      "outputs": [],
      "source": [
        "ser = pd.Series([1, 3, 6, 10, 15, 21, 27, 35])"
      ]
    },
    {
      "cell_type": "markdown",
      "id": "c64a2901",
      "metadata": {
        "id": "c64a2901"
      },
      "source": [
        "**Problem 22**\n",
        "\n",
        "Convert the date-strings to a timeseries.\n",
        "\n",
        "*   use the .to_datetime() method to complete the task\n"
      ]
    },
    {
      "cell_type": "code",
      "execution_count": 57,
      "id": "db82de89",
      "metadata": {
        "id": "db82de89"
      },
      "outputs": [
        {
          "name": "stdout",
          "output_type": "stream",
          "text": [
            "0   2010-01-01 00:00:00\n",
            "1   2011-02-02 00:00:00\n",
            "2   2012-03-03 00:00:00\n",
            "3   2013-04-04 00:00:00\n",
            "4   2014-05-05 00:00:00\n",
            "5   2015-06-06 12:20:00\n",
            "dtype: datetime64[ns]\n"
          ]
        }
      ],
      "source": [
        "ser = pd.Series(['01 Jan 2010', '02-02-2011', '20120303', '2013/04/04', '2014-05-05', '2015-06-06T12:20'])\n",
        "ser_date = pd.to_datetime(ser,format=\"mixed\")\n",
        "print(ser_date)"
      ]
    },
    {
      "cell_type": "markdown",
      "id": "5a5f83c0",
      "metadata": {
        "id": "5a5f83c0"
      },
      "source": [
        "**Problem 23**\n",
        "\n",
        "From dateutil.parser import the parse method to use for the following:\n",
        "\n",
        "*   Create a new object using the .map() method to parse ser\n",
        "*   Create a new list of all the days of the month using the .dt.day() methods from the parsed series\n",
        "*   Create a new list of all the weeks of the year using the .dt.weekofyear() methods from the parsed series\n",
        "*   Create a new list of all of the days of the year using the dt.dayofyear() methods from the parsed series\n",
        "*   Create a new list of all the days of the week using the dt.weekday_name() methods from the parsed series\n",
        "\n",
        "\n",
        "\n"
      ]
    },
    {
      "cell_type": "code",
      "execution_count": 49,
      "id": "4bcc124e",
      "metadata": {
        "id": "4bcc124e"
      },
      "outputs": [
        {
          "ename": "NameError",
          "evalue": "name 'parse' is not defined",
          "output_type": "error",
          "traceback": [
            "\u001b[1;31m---------------------------------------------------------------------------\u001b[0m",
            "\u001b[1;31mNameError\u001b[0m                                 Traceback (most recent call last)",
            "Cell \u001b[1;32mIn[49], line 2\u001b[0m\n\u001b[0;32m      1\u001b[0m ser \u001b[39m=\u001b[39m pd\u001b[39m.\u001b[39mSeries([\u001b[39m'\u001b[39m\u001b[39m01 Jan 2010\u001b[39m\u001b[39m'\u001b[39m, \u001b[39m'\u001b[39m\u001b[39m02-02-2011\u001b[39m\u001b[39m'\u001b[39m, \u001b[39m'\u001b[39m\u001b[39m20120303\u001b[39m\u001b[39m'\u001b[39m, \u001b[39m'\u001b[39m\u001b[39m2013/04/04\u001b[39m\u001b[39m'\u001b[39m, \u001b[39m'\u001b[39m\u001b[39m2014-05-05\u001b[39m\u001b[39m'\u001b[39m, \u001b[39m'\u001b[39m\u001b[39m2015-06-06T12:20\u001b[39m\u001b[39m'\u001b[39m])\n\u001b[1;32m----> 2\u001b[0m p \u001b[39m=\u001b[39m ser\u001b[39m.\u001b[39;49mmap(\u001b[39mlambda\u001b[39;49;00m x:parse(x))\n\u001b[0;32m      3\u001b[0m p_days_of_month \u001b[39m=\u001b[39m [p\u001b[39m.\u001b[39mdt\u001b[39m.\u001b[39mday]\n\u001b[0;32m      4\u001b[0m p_weeks_of_year \u001b[39m=\u001b[39m [p\u001b[39m.\u001b[39mdt\u001b[39m.\u001b[39misocalendar()\u001b[39m.\u001b[39mweek]\n",
            "File \u001b[1;32mc:\\Users\\malij\\AppData\\Local\\Programs\\Python\\Python310\\lib\\site-packages\\pandas\\core\\series.py:4393\u001b[0m, in \u001b[0;36mSeries.map\u001b[1;34m(self, arg, na_action)\u001b[0m\n\u001b[0;32m   4314\u001b[0m \u001b[39mdef\u001b[39;00m \u001b[39mmap\u001b[39m(\n\u001b[0;32m   4315\u001b[0m     \u001b[39mself\u001b[39m,\n\u001b[0;32m   4316\u001b[0m     arg: Callable \u001b[39m|\u001b[39m Mapping \u001b[39m|\u001b[39m Series,\n\u001b[0;32m   4317\u001b[0m     na_action: Literal[\u001b[39m\"\u001b[39m\u001b[39mignore\u001b[39m\u001b[39m\"\u001b[39m] \u001b[39m|\u001b[39m \u001b[39mNone\u001b[39;00m \u001b[39m=\u001b[39m \u001b[39mNone\u001b[39;00m,\n\u001b[0;32m   4318\u001b[0m ) \u001b[39m-\u001b[39m\u001b[39m>\u001b[39m Series:\n\u001b[0;32m   4319\u001b[0m \u001b[39m    \u001b[39m\u001b[39m\"\"\"\u001b[39;00m\n\u001b[0;32m   4320\u001b[0m \u001b[39m    Map values of Series according to an input mapping or function.\u001b[39;00m\n\u001b[0;32m   4321\u001b[0m \n\u001b[1;32m   (...)\u001b[0m\n\u001b[0;32m   4391\u001b[0m \u001b[39m    dtype: object\u001b[39;00m\n\u001b[0;32m   4392\u001b[0m \u001b[39m    \"\"\"\u001b[39;00m\n\u001b[1;32m-> 4393\u001b[0m     new_values \u001b[39m=\u001b[39m \u001b[39mself\u001b[39;49m\u001b[39m.\u001b[39;49m_map_values(arg, na_action\u001b[39m=\u001b[39;49mna_action)\n\u001b[0;32m   4394\u001b[0m     \u001b[39mreturn\u001b[39;00m \u001b[39mself\u001b[39m\u001b[39m.\u001b[39m_constructor(new_values, index\u001b[39m=\u001b[39m\u001b[39mself\u001b[39m\u001b[39m.\u001b[39mindex, copy\u001b[39m=\u001b[39m\u001b[39mFalse\u001b[39;00m)\u001b[39m.\u001b[39m__finalize__(\n\u001b[0;32m   4395\u001b[0m         \u001b[39mself\u001b[39m, method\u001b[39m=\u001b[39m\u001b[39m\"\u001b[39m\u001b[39mmap\u001b[39m\u001b[39m\"\u001b[39m\n\u001b[0;32m   4396\u001b[0m     )\n",
            "File \u001b[1;32mc:\\Users\\malij\\AppData\\Local\\Programs\\Python\\Python310\\lib\\site-packages\\pandas\\core\\base.py:924\u001b[0m, in \u001b[0;36mIndexOpsMixin._map_values\u001b[1;34m(self, mapper, na_action)\u001b[0m\n\u001b[0;32m    921\u001b[0m         \u001b[39mraise\u001b[39;00m \u001b[39mValueError\u001b[39;00m(msg)\n\u001b[0;32m    923\u001b[0m \u001b[39m# mapper is a function\u001b[39;00m\n\u001b[1;32m--> 924\u001b[0m new_values \u001b[39m=\u001b[39m map_f(values, mapper)\n\u001b[0;32m    926\u001b[0m \u001b[39mreturn\u001b[39;00m new_values\n",
            "File \u001b[1;32mc:\\Users\\malij\\AppData\\Local\\Programs\\Python\\Python310\\lib\\site-packages\\pandas\\_libs\\lib.pyx:2834\u001b[0m, in \u001b[0;36mpandas._libs.lib.map_infer\u001b[1;34m()\u001b[0m\n",
            "Cell \u001b[1;32mIn[49], line 2\u001b[0m, in \u001b[0;36m<lambda>\u001b[1;34m(x)\u001b[0m\n\u001b[0;32m      1\u001b[0m ser \u001b[39m=\u001b[39m pd\u001b[39m.\u001b[39mSeries([\u001b[39m'\u001b[39m\u001b[39m01 Jan 2010\u001b[39m\u001b[39m'\u001b[39m, \u001b[39m'\u001b[39m\u001b[39m02-02-2011\u001b[39m\u001b[39m'\u001b[39m, \u001b[39m'\u001b[39m\u001b[39m20120303\u001b[39m\u001b[39m'\u001b[39m, \u001b[39m'\u001b[39m\u001b[39m2013/04/04\u001b[39m\u001b[39m'\u001b[39m, \u001b[39m'\u001b[39m\u001b[39m2014-05-05\u001b[39m\u001b[39m'\u001b[39m, \u001b[39m'\u001b[39m\u001b[39m2015-06-06T12:20\u001b[39m\u001b[39m'\u001b[39m])\n\u001b[1;32m----> 2\u001b[0m p \u001b[39m=\u001b[39m ser\u001b[39m.\u001b[39mmap(\u001b[39mlambda\u001b[39;00m x:parse(x))\n\u001b[0;32m      3\u001b[0m p_days_of_month \u001b[39m=\u001b[39m [p\u001b[39m.\u001b[39mdt\u001b[39m.\u001b[39mday]\n\u001b[0;32m      4\u001b[0m p_weeks_of_year \u001b[39m=\u001b[39m [p\u001b[39m.\u001b[39mdt\u001b[39m.\u001b[39misocalendar()\u001b[39m.\u001b[39mweek]\n",
            "\u001b[1;31mNameError\u001b[0m: name 'parse' is not defined"
          ]
        }
      ],
      "source": [
        "ser = pd.Series(['01 Jan 2010', '02-02-2011', '20120303', '2013/04/04', '2014-05-05', '2015-06-06T12:20'])\n",
        "p = ser.map(lambda x:parse(x))\n",
        "p_days_of_month = [p.dt.day]\n",
        "p_weeks_of_year = [p.dt.isocalendar().week]\n",
        "p_days_of_year = [p.dt.dayofyear]\n",
        "p_weekday_name = [p.dt.day_name()]"
      ]
    },
    {
      "cell_type": "markdown",
      "id": "3dbb2f54",
      "metadata": {
        "id": "3dbb2f54"
      },
      "source": [
        "**Problem 24**\n",
        "\n",
        "From ser, extract words that contain at least 2 vowels."
      ]
    },
    {
      "cell_type": "code",
      "execution_count": 52,
      "id": "32dec09a",
      "metadata": {
        "id": "32dec09a"
      },
      "outputs": [
        {
          "data": {
            "text/plain": [
              "0     Apple\n",
              "1    Orange\n",
              "4     Money\n",
              "dtype: object"
            ]
          },
          "execution_count": 52,
          "metadata": {},
          "output_type": "execute_result"
        }
      ],
      "source": [
        "ser = pd.Series(['Apple', 'Orange', 'Plan', 'Python', 'Money'])\n",
        "vowels = list('aeiou')\n",
        "#output = ser[ser.apply(lambda word: sum([1 for vowel in vowels if vowel in word.lower()]) >= 2)]\n",
        "#print(output)\n",
        "twoMvowels = ser.str.lower().str.count('[aeiou]')\n",
        "ser[twoMvowels>=2]"
      ]
    },
    {
      "cell_type": "markdown",
      "id": "44177063",
      "metadata": {
        "id": "44177063"
      },
      "source": [
        "**Problem 25**\n",
        "\n",
        "Extract the valid emails from the series emails. The regex pattern for valid emails is provided as reference."
      ]
    },
    {
      "cell_type": "code",
      "execution_count": null,
      "id": "3e85fe14",
      "metadata": {
        "id": "3e85fe14"
      },
      "outputs": [],
      "source": [
        "emails = pd.Series(['buying books at amazom.com', 'rameses@egypt.com', 'matt@t.co', 'narendra@modi.com'])\n",
        "pattern ='[A-Za-z0-9._%+-]+@[A-Za-z0-9.-]+\\\\.[A-Za-z]{2,4}'\n"
      ]
    },
    {
      "cell_type": "markdown",
      "id": "66fadf17",
      "metadata": {
        "id": "66fadf17"
      },
      "source": [
        "**Problem 26**\n",
        "\n",
        "Compute the mean of weights of each fruit."
      ]
    },
    {
      "cell_type": "code",
      "execution_count": 60,
      "id": "75855cd1",
      "metadata": {
        "id": "75855cd1"
      },
      "outputs": [
        {
          "name": "stdout",
          "output_type": "stream",
          "text": [
            "5.5\n"
          ]
        }
      ],
      "source": [
        "fruit = pd.Series(np.random.choice(['apple', 'banana', 'carrot'], 10))\n",
        "weights = pd.Series(np.linspace(1, 10, 10))\n",
        "weights.index=fruit\n",
        "print(weights.mean())\n",
        "#print(weight.tolist())\n",
        "#print(fruit.tolist())\n",
        "#examples\n",
        "#> [1.0, 2.0, 3.0, 4.0, 5.0, 6.0, 7.0, 8.0, 9.0, 10.0]\n",
        "#> ['banana', 'carrot', 'apple', 'carrot', 'carrot', 'apple', 'banana', 'carrot', 'apple', 'carrot']"
      ]
    },
    {
      "cell_type": "markdown",
      "id": "04f5675f",
      "metadata": {
        "id": "04f5675f"
      },
      "source": [
        "**Problem 27**\n",
        "\n",
        "Replace the spaces in my_str with the least frequent character."
      ]
    },
    {
      "cell_type": "code",
      "execution_count": null,
      "id": "1d4aff8d",
      "metadata": {
        "id": "1d4aff8d"
      },
      "outputs": [],
      "source": [
        "my_str = 'dbc deb abed gade'"
      ]
    },
    {
      "cell_type": "markdown",
      "id": "146b95f0",
      "metadata": {
        "id": "146b95f0"
      },
      "source": [
        "Problem 28\n",
        "\n",
        "Create a timeseries starting at ‘2000-01-01’ and 10 weekends (saturdays) after that having random numbers as values."
      ]
    },
    {
      "cell_type": "code",
      "execution_count": 61,
      "id": "e4cd8dd6",
      "metadata": {
        "id": "e4cd8dd6"
      },
      "outputs": [
        {
          "data": {
            "text/plain": [
              "2000-01-01    0.104820\n",
              "2000-01-08    0.059012\n",
              "2000-01-15    0.599987\n",
              "2000-01-22    0.958355\n",
              "2000-01-29    0.589985\n",
              "2000-02-05    0.676544\n",
              "2000-02-12    0.007458\n",
              "2000-02-19    0.214179\n",
              "2000-02-26    0.260809\n",
              "2000-03-04    0.600870\n",
              "Freq: 7D, dtype: float64"
            ]
          },
          "execution_count": 61,
          "metadata": {},
          "output_type": "execute_result"
        }
      ],
      "source": [
        "indx = pd.date_range(start = '2000-01-01', periods = 10, freq = '7D')\n",
        "vals = np.random.rand(10)\n",
        "pd.Series(vals, index = indx)"
      ]
    },
    {
      "cell_type": "markdown",
      "id": "b8a17176",
      "metadata": {
        "id": "b8a17176"
      },
      "source": [
        "Problem 29\n",
        "\n",
        "Series ser has missing dates and values. Make all missing dates appear and fill up with value from previous date.\n",
        "\n",
        "*   Use .resample() and .ffill() to complete the task\n",
        "\n",
        "\n"
      ]
    },
    {
      "cell_type": "code",
      "execution_count": null,
      "id": "c8a10d5d",
      "metadata": {
        "id": "c8a10d5d"
      },
      "outputs": [],
      "source": [
        "ser = pd.Series([1,10,3,np.nan], index=pd.to_datetime(['2000-01-01', '2000-01-03', '2000-01-06', '2000-01-08']))\n",
        "print(ser)\n",
        "#> 2000-01-01     1.0\n",
        "#> 2000-01-03    10.0\n",
        "#> 2000-01-06     3.0\n",
        "#> 2000-01-08     NaN\n",
        "#> dtype: float64"
      ]
    }
  ],
  "metadata": {
    "colab": {
      "provenance": []
    },
    "kernelspec": {
      "display_name": "my_environment",
      "language": "python",
      "name": "python3"
    },
    "language_info": {
      "codemirror_mode": {
        "name": "ipython",
        "version": 3
      },
      "file_extension": ".py",
      "mimetype": "text/x-python",
      "name": "python",
      "nbconvert_exporter": "python",
      "pygments_lexer": "ipython3",
      "version": "3.10.0rc2"
    },
    "vscode": {
      "interpreter": {
        "hash": "1468b46fbbf336438d2a9c265dd02fb55be29fdd63084011561d11061c2774ae"
      }
    }
  },
  "nbformat": 4,
  "nbformat_minor": 5
}
