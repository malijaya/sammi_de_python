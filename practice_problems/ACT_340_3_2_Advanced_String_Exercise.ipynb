{
  "cells": [
    {
      "attachments": {},
      "cell_type": "markdown",
      "metadata": {
        "id": "cUylAN2Ilryc"
      },
      "source": [
        "# String Excercises- Advanced\n",
        "\n",
        "Complete the following practice excercises below to build up your skills with manipulating strings."
      ]
    },
    {
      "cell_type": "markdown",
      "metadata": {
        "id": "27IbcjVcl6Bh"
      },
      "source": [
        "**Problem 1**\n",
        "\n",
        "Create a new string with the following sentence:\n",
        "\n",
        "“You learn more from failure than from success.\"\n",
        "<br></br>\n",
        "* Use the 1st, 4th, and last charachter to create a new string."
      ]
    },
    {
      "cell_type": "code",
<<<<<<< HEAD
      "execution_count": 4,
=======
      "execution_count": 19,
>>>>>>> 2e71b8a957b7f11ee20146148631324590515f74
      "metadata": {
        "id": "Swq_joOAmZB2"
      },
      "outputs": [
        {
          "name": "stdout",
          "output_type": "stream",
          "text": [
<<<<<<< HEAD
            "Y .\n"
=======
            "Y .\n",
            "<class 'str'>\n"
>>>>>>> 2e71b8a957b7f11ee20146148631324590515f74
          ]
        }
      ],
      "source": [
<<<<<<< HEAD
        "string1 = \"You learn more from failure than from success.\"\n",
        "result = string1[0] + string1[3] + string1[-1]\n",
        "print (result)"
=======
        "name= \"You learn more from failure than from success.\"\n",
        "result= name[0] + name[3] + name[-1]\n",
        "print(result)\n",
        "print(type(result))"
>>>>>>> 2e71b8a957b7f11ee20146148631324590515f74
      ]
    },
    {
      "cell_type": "markdown",
      "metadata": {
        "id": "mGPUZkRTmoqN"
      },
      "source": [
        "**Problem 2**\n",
        "\n",
        "* Use the same string variable from above\n",
        "* Use the replace() method to replace the \".\" with an \"!\""
      ]
    },
    {
      "cell_type": "code",
<<<<<<< HEAD
      "execution_count": 5,
=======
      "execution_count": 20,
>>>>>>> 2e71b8a957b7f11ee20146148631324590515f74
      "metadata": {
        "id": "Seg9HXsFnHn-"
      },
      "outputs": [
        {
          "name": "stdout",
          "output_type": "stream",
          "text": [
            "You learn more from failure than from success!\n"
          ]
        }
      ],
      "source": [
<<<<<<< HEAD
        "string1 = \"You learn more from failure than from success.\"\n",
        "string1 = string1.replace(\".\",\"!\")\n",
        "print(string1)"
=======
        "str1= name.replace(\".\", \"!\")\n",
        "\n",
        "print(str1)"
>>>>>>> 2e71b8a957b7f11ee20146148631324590515f74
      ]
    },
    {
      "cell_type": "markdown",
      "metadata": {
        "id": "ZdxYpOtrnIz8"
      },
      "source": [
        "**Problem 3**\n",
        "\n",
        "*   Use the string variable below and create a new variable that has all of the charachters from the original string as lowercase charachters\n",
        "\n",
        "\n"
      ]
    },
    {
      "cell_type": "code",
<<<<<<< HEAD
      "execution_count": 7,
=======
      "execution_count": 21,
>>>>>>> 2e71b8a957b7f11ee20146148631324590515f74
      "metadata": {
        "id": "fciZlwkwnjNb"
      },
      "outputs": [
        {
          "name": "stdout",
          "output_type": "stream",
          "text": [
            "“when you change your thoughts, remember to also change your world.”\n"
          ]
        }
      ],
      "source": [
        "new_str= \"“WHEN YOU Change your thougHts, remember to ALSO change your world.”\"\n",
<<<<<<< HEAD
        "new_str1 = new_str.lower()\n",
        "print(new_str1)"
=======
        "\n",
        "name= new_str.lower()\n",
        "\n",
        "print(name)"
>>>>>>> 2e71b8a957b7f11ee20146148631324590515f74
      ]
    },
    {
      "cell_type": "markdown",
      "metadata": {
        "id": "cip5r4CRn3G4"
      },
      "source": [
        "**Problem 4**\n",
        "\n",
        "\n",
        "*   Take the new_str variable from above and make all of charachters uppercase\n",
        "\n",
        "\n"
      ]
    },
    {
      "cell_type": "code",
<<<<<<< HEAD
      "execution_count": 8,
=======
      "execution_count": 22,
>>>>>>> 2e71b8a957b7f11ee20146148631324590515f74
      "metadata": {
        "id": "nFnFU3-ooHvA"
      },
      "outputs": [
        {
          "name": "stdout",
          "output_type": "stream",
          "text": [
            "“WHEN YOU CHANGE YOUR THOUGHTS, REMEMBER TO ALSO CHANGE YOUR WORLD.”\n"
          ]
        }
      ],
      "source": [
<<<<<<< HEAD
        "new_str= \"“WHEN YOU Change your thougHts, remember to ALSO change your world.”\"\n",
        "new_str1 = new_str.upper()\n",
        "print(new_str1)"
=======
        "print(new_str.upper())"
>>>>>>> 2e71b8a957b7f11ee20146148631324590515f74
      ]
    },
    {
      "cell_type": "markdown",
      "metadata": {
        "id": "HzCVplcwoPxU"
      },
      "source": [
        "**Problem 5**\n",
        "\n",
        "* Use the string variable below and the startswith() method to check and see if the string starts with the charachter \"Z\".\n",
        "* Check if it starts with the charachter \"t\"\n"
      ]
    },
    {
      "cell_type": "code",
<<<<<<< HEAD
      "execution_count": 11,
=======
      "execution_count": 23,
>>>>>>> 2e71b8a957b7f11ee20146148631324590515f74
      "metadata": {
        "id": "1TAzCILcovZk"
      },
      "outputs": [
        {
          "name": "stdout",
          "output_type": "stream",
          "text": [
            "False\n",
            "False\n"
          ]
        }
      ],
      "source": [
        "new_str= \"There are no traffic jams along the extra mile.\"\n",
<<<<<<< HEAD
        "print (new_str.startswith('Z'))\n",
        "print (new_str.startswith(\"t\"))\n",
        "\n",
        "    "
=======
        "\n",
        "x= new_str.startswith(\"Z\")\n",
        "print(x)\n",
        "\n",
        "y=new_str.startswith(\"t\")\n",
        "print(y)"
>>>>>>> 2e71b8a957b7f11ee20146148631324590515f74
      ]
    },
    {
      "cell_type": "markdown",
      "metadata": {
        "id": "U5iHAc6MoubS"
      },
      "source": [
        "**Problem 6**\n",
        "\n",
        "\n",
        "\n",
        "*   Use the same new_str variable and the index() method to identify the index of charachter \"j\"\n",
        "\n",
        "\n"
      ]
    },
    {
      "cell_type": "code",
<<<<<<< HEAD
      "execution_count": 12,
=======
      "execution_count": 24,
>>>>>>> 2e71b8a957b7f11ee20146148631324590515f74
      "metadata": {
        "id": "w3MhXXFxpTil"
      },
      "outputs": [
        {
          "name": "stdout",
          "output_type": "stream",
          "text": [
            "21\n"
          ]
        }
      ],
      "source": [
<<<<<<< HEAD
        "new_str= \"There are no traffic jams along the extra mile.\"\n",
        "print(new_str.index('j'))"
=======
        "print(new_str.index(\"j\"))"
>>>>>>> 2e71b8a957b7f11ee20146148631324590515f74
      ]
    },
    {
      "cell_type": "markdown",
      "metadata": {
        "id": "63odwi1_pU-h"
      },
      "source": [
        "**Problem 7**\n",
        "\n",
        "*   Use the same new_str variable\n",
        "*   Use the count() method to find the number of times \"t\" and \"o\" appear in a string\n",
        "* Create a print statement that has both results in one statement. You can use string concatenation, fstring, or any other way you can think of!\n",
        "\n"
      ]
    },
    {
      "cell_type": "code",
<<<<<<< HEAD
      "execution_count": 19,
=======
      "execution_count": 25,
>>>>>>> 2e71b8a957b7f11ee20146148631324590515f74
      "metadata": {
        "id": "2okBBd33p6O-"
      },
      "outputs": [
        {
          "name": "stdout",
          "output_type": "stream",
          "text": [
<<<<<<< HEAD
            "Number of t is 3 and the number of o is 2\n"
=======
            "The count of all the O's is: 2 & the count of all the t's is: 3\n"
>>>>>>> 2e71b8a957b7f11ee20146148631324590515f74
          ]
        }
      ],
      "source": [
<<<<<<< HEAD
        "new_str= \"There are no traffic jams along the extra mile.\"\n",
        "count_t = new_str.count('t')\n",
        "count_o = new_str.count('o')\n",
        "print(f'Number of t is {count_t} and the number of o is {count_o}')\n"
=======
        "t_count= new_str.count(\"t\")\n",
        "o_count= new_str.count(\"o\")\n",
        "\n",
        "print(f\"The count of all the O's is: {o_count} & the count of all the t's is: {t_count}\")"
>>>>>>> 2e71b8a957b7f11ee20146148631324590515f74
      ]
    },
    {
      "cell_type": "markdown",
      "metadata": {
        "id": "u1UpWwGjp_qu"
      },
      "source": [
        "**Problem 8**\n",
        "\n",
        "* Using the string below, find the length of the given string."
      ]
    },
    {
      "cell_type": "code",
<<<<<<< HEAD
      "execution_count": 20,
=======
      "execution_count": 26,
>>>>>>> 2e71b8a957b7f11ee20146148631324590515f74
      "metadata": {
        "id": "SAErNiQXqNiq"
      },
      "outputs": [
        {
          "name": "stdout",
          "output_type": "stream",
          "text": [
            "13\n"
          ]
        }
      ],
      "source": [
        "greeting= \"Good Morning!\"\n",
<<<<<<< HEAD
=======
        "\n",
>>>>>>> 2e71b8a957b7f11ee20146148631324590515f74
        "print(len(greeting))"
      ]
    },
    {
      "cell_type": "markdown",
      "metadata": {
        "id": "PlVi5hw8q6ha"
      },
      "source": [
        "**Problem 9**\n",
        "\n",
        "\n",
        "\n",
        "*   Use the string below, and documentation on string methods to find if all the charachters in a string are alpha charachters.\n",
        "\n"
      ]
    },
    {
      "cell_type": "code",
<<<<<<< HEAD
      "execution_count": 21,
=======
      "execution_count": 27,
>>>>>>> 2e71b8a957b7f11ee20146148631324590515f74
      "metadata": {
        "id": "jBsKOU-drQdV"
      },
      "outputs": [
        {
<<<<<<< HEAD
          "data": {
            "text/plain": [
              "True"
            ]
          },
          "execution_count": 21,
          "metadata": {},
          "output_type": "execute_result"
=======
          "name": "stdout",
          "output_type": "stream",
          "text": [
            "True\n"
          ]
>>>>>>> 2e71b8a957b7f11ee20146148631324590515f74
        }
      ],
      "source": [
        "alphabet= \"abcdefghijklmnopqrstuvwxyz\"\n",
<<<<<<< HEAD
        "alphabet.isalpha()"
=======
        "\n",
        "print(alphabet.isalpha())"
>>>>>>> 2e71b8a957b7f11ee20146148631324590515f74
      ]
    },
    {
      "attachments": {},
      "cell_type": "markdown",
      "metadata": {
        "id": "34l2TSFMrYvv"
      },
      "source": [
        "**Problem 10**\n",
        "\n",
        "Use the string below to complete the following:\n",
        "\n",
        "\n",
        "*   Use the find() method for the value \"y\"\n",
        "*   Use the index() method for the value \"y\"\n",
        "*   Create a comment explaining the difference between the two methods\n",
        "\n",
        "\n",
        "\n"
      ]
    },
    {
      "cell_type": "code",
<<<<<<< HEAD
      "execution_count": 23,
=======
      "execution_count": 28,
>>>>>>> 2e71b8a957b7f11ee20146148631324590515f74
      "metadata": {
        "id": "8ki6bRY-sHBf"
      },
      "outputs": [
        {
<<<<<<< HEAD
          "name": "stdout",
          "output_type": "stream",
          "text": [
            "-1\n"
          ]
        },
        {
=======
>>>>>>> 2e71b8a957b7f11ee20146148631324590515f74
          "ename": "ValueError",
          "evalue": "substring not found",
          "output_type": "error",
          "traceback": [
            "\u001b[1;31m---------------------------------------------------------------------------\u001b[0m",
            "\u001b[1;31mValueError\u001b[0m                                Traceback (most recent call last)",
<<<<<<< HEAD
            "Cell \u001b[1;32mIn[23], line 3\u001b[0m\n\u001b[0;32m      1\u001b[0m learning\u001b[39m=\u001b[39m \u001b[39m\"\u001b[39m\u001b[39mLearning is fun!\u001b[39m\u001b[39m\"\u001b[39m\n\u001b[0;32m      2\u001b[0m \u001b[39mprint\u001b[39m (learning\u001b[39m.\u001b[39mfind(\u001b[39m'\u001b[39m\u001b[39my\u001b[39m\u001b[39m'\u001b[39m))\n\u001b[1;32m----> 3\u001b[0m \u001b[39mprint\u001b[39m (learning\u001b[39m.\u001b[39;49mindex(\u001b[39m'\u001b[39;49m\u001b[39my\u001b[39;49m\u001b[39m'\u001b[39;49m))\n",
=======
            "Cell \u001b[1;32mIn[28], line 3\u001b[0m\n\u001b[0;32m      1\u001b[0m learning\u001b[39m=\u001b[39m \u001b[39m\"\u001b[39m\u001b[39mLearning is fun!\u001b[39m\u001b[39m\"\u001b[39m\n\u001b[1;32m----> 3\u001b[0m learning\u001b[39m.\u001b[39;49mindex(\u001b[39m\"\u001b[39;49m\u001b[39my\u001b[39;49m\u001b[39m\"\u001b[39;49m)\n\u001b[0;32m      4\u001b[0m learning\u001b[39m.\u001b[39mfind(\u001b[39m\"\u001b[39m\u001b[39my\u001b[39m\u001b[39m\"\u001b[39m)\n\u001b[0;32m      5\u001b[0m learning\u001b[39m.\u001b[39mlower()\n",
>>>>>>> 2e71b8a957b7f11ee20146148631324590515f74
            "\u001b[1;31mValueError\u001b[0m: substring not found"
          ]
        }
      ],
      "source": [
        "learning= \"Learning is fun!\"\n",
<<<<<<< HEAD
        "print (learning.find('y'))\n",
        "print (learning.index('y'))"
=======
        "\n",
        "learning.index(\"y\")\n",
        "learning.find(\"y\")\n",
        "learning.lower()\n"
      ]
    },
    {
      "cell_type": "code",
      "execution_count": 29,
      "metadata": {},
      "outputs": [
        {
          "name": "stdout",
          "output_type": "stream",
          "text": [
            "Hello World\n"
          ]
        }
      ],
      "source": [
        "print(\"Hello World\")"
>>>>>>> 2e71b8a957b7f11ee20146148631324590515f74
      ]
    }
  ],
  "metadata": {
    "colab": {
      "provenance": []
    },
    "kernelspec": {
      "display_name": "Python 3",
      "name": "python3"
    },
    "language_info": {
      "codemirror_mode": {
        "name": "ipython",
        "version": 3
      },
      "file_extension": ".py",
      "mimetype": "text/x-python",
      "name": "python",
      "nbconvert_exporter": "python",
      "pygments_lexer": "ipython3",
<<<<<<< HEAD
      "version": "3.10.0"
=======
      "version": "3.10.9"
>>>>>>> 2e71b8a957b7f11ee20146148631324590515f74
    }
  },
  "nbformat": 4,
  "nbformat_minor": 0
}
